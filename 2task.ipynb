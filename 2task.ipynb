{
 "nbformat": 4,
 "nbformat_minor": 2,
 "metadata": {
  "language_info": {
   "name": "python",
   "codemirror_mode": {
    "name": "ipython",
    "version": 3
   }
  },
  "orig_nbformat": 2,
  "file_extension": ".py",
  "mimetype": "text/x-python",
  "name": "python",
  "npconvert_exporter": "python",
  "pygments_lexer": "ipython3",
  "version": 3
 },
 "cells": [
  {
   "cell_type": "code",
   "execution_count": null,
   "metadata": {},
   "outputs": [],
   "source": [
    "In [2]:\n",
    "from scipy import stats\n",
    "In [3]:\n",
    "import pandas as pd\n",
    "In [4]:\n",
    "dataset = pd.read_csv('reading.csv')\n",
    "In [5]:\n",
    "dataset\n",
    "Out[5]:\n",
    "Method\tGrade\n",
    "0\tc\t80\n",
    "1\tc\t93\n",
    "2\tc\t83\n",
    "3\tc\t89\n",
    "4\tc\t98\n",
    "5\tt\t100\n",
    "6\tt\t103\n",
    "7\tt\t104\n",
    "8\tt\t99\n",
    "9\tt\t102\n",
    "In [6]:\n",
    "c = dataset[dataset.Method == \"c\"]\n",
    "In [7]:\n",
    "c\n",
    "Out[7]:\n",
    "Method\tGrade\n",
    "0\tc\t80\n",
    "1\tc\t93\n",
    "2\tc\t83\n",
    "3\tc\t89\n",
    "4\tc\t98\n",
    "In [8]:\n",
    "t = dataset[dataset.Method == \"t\"]\n",
    "In [9]:\n",
    "t\n",
    "Out[9]:\n",
    "Method\tGrade\n",
    "5\tt\t100\n",
    "6\tt\t103\n",
    "7\tt\t104\n",
    "8\tt\t99\n",
    "9\tt\t102\n",
    "In [10]:\n",
    "stats.ttest_ind(t.Grade,c.Grade)\n",
    "Out[10]:\n",
    "Ttest_indResult(statistic=3.830161731427132, pvalue=0.005016762443669757)\n",
    "In [ ]:\n"
   ]
  }
 ]
}