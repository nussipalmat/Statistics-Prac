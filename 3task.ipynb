{
 "nbformat": 4,
 "nbformat_minor": 2,
 "metadata": {
  "language_info": {
   "name": "python",
   "codemirror_mode": {
    "name": "ipython",
    "version": 3
   }
  },
  "orig_nbformat": 2,
  "file_extension": ".py",
  "mimetype": "text/x-python",
  "name": "python",
  "npconvert_exporter": "python",
  "pygments_lexer": "ipython3",
  "version": 3
 },
 "cells": [
  {
   "cell_type": "code",
   "execution_count": null,
   "metadata": {},
   "outputs": [],
   "source": [
    "In [154]:\n",
    "from scipy import stats\n",
    "In [155]:\n",
    "import pandas as pd\n",
    "In [156]:\n",
    "s = pd.read_csv('response.csv')\n",
    "In [157]:\n",
    "s\n",
    "Out[157]:\n",
    "Control\tTreatment\n",
    "0\t90\t95\n",
    "1\t87\t92\n",
    "2\t100\t104\n",
    "3\t80\t89\n",
    "4\t95\t101\n",
    "5\t90\t105\n",
    "In [158]:\n",
    "s.Treatment\n",
    "Out[158]:\n",
    "0     95\n",
    "1     92\n",
    "2    104\n",
    "3     89\n",
    "4    101\n",
    "5    105\n",
    "Name: Treatment, dtype: int64\n",
    "In [166]:\n",
    "Out[166]:\n",
    "Index(['Control ', 'Treatment'], dtype='object')\n",
    "In [168]:\n",
    "In [169]:\n",
    "s.Control\n",
    "Out[169]:\n",
    "0     90\n",
    "1     87\n",
    "2    100\n",
    "3     80\n",
    "4     95\n",
    "5     90\n",
    "Name: Control, dtype: int64\n",
    "In [170]:\n",
    "stats.ttest_rel(s.Control,s.Treatment)\n",
    "Out[170]:\n",
    "Ttest_relResult(statistic=-4.348131782731521, pvalue=0.0073721662756678265)\n",
    "In [ ]:\n"
   ]
  }
 ]
}